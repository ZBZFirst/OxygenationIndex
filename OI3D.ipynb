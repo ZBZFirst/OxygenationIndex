#this code only generates 100k values. if your computer is having trouble rendering the images, consider reducing the amount of data points corrected.

#this is an example of the code that creates the graphs. the numbers can be changed and will change the output of the
#graph but can easily be reloaded if someone completely destroys the code. this code ensures that the chart will
#always look the same, ensuring replicability for anyone to teach.

import pandas as pd
import numpy as np
import plotly.express as px

# Create the DataFrame
df = pd.DataFrame({
    'FiO2': 0.21 + 0.79 * np.random.rand(100000),  # random values between 0.21 and 1, REDUCE to 10000 IF SLOW
    'MAP': np.round(np.random.uniform(low=5.0, high=30.0, size=100000)),  # random values between 5 and 30, rounded to whole numbers, REDUCE to 10000 IF SLOW
    'PaO2': np.round(np.random.uniform(low=35.0, high=100.0, size=100000)),  # random values between 75 and 100, rounded to whole numbers, REDUCE to 10000 IF SLOW
})

# Calculate the oxygenation index and round to whole numbers
df['OI'] = np.round((df['FiO2'] * df['MAP'] * 100) / df['PaO2'])

# Normalize PaO2 values to [0,1] for color mapping
df['PaO2_normalized'] = (df['PaO2'] - df['PaO2'].min()) / (df['PaO2'].max() - df['PaO2'].min())

# Calculate the PAO2/FIO2 equation and round to two decimal places
df['PAO2/FIO2'] = np.round(df['PaO2'] / df['FiO2'], 2)

# Create a 3D scatter plot with Plotly
fig = px.scatter_3d(df, x='FiO2', y='MAP', z='OI',
                    color='PaO2_normalized',
                    color_continuous_scale='RdYlGn',
                    hover_data=['PaO2', 'FiO2', 'MAP', 'OI', 'PAO2/FIO2'],  # include all relevant data in hover
                    labels={'FiO2': 'FiO2', 'MAP': 'MAP', 'OI': 'OI'},
                    title='Oxygenation Index',
                    width=800, height=600)

# Show the figure
fig.show()
